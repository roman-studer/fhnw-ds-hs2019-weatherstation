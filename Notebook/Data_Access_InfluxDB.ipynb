{
 "cells": [
  {
   "cell_type": "markdown",
   "metadata": {},
   "source": [
    "# Data Access InfluxDB\n",
    "\n",
    "This document provides an introduction on how to access the [InfluxDB](https://docs.influxdata.com/influxdb) database used in Challenge 5."
   ]
  },
  {
   "cell_type": "markdown",
   "metadata": {},
   "source": [
    "First we need to import the necessary python modules (we assume that the necessary OS dependencies are already installed). "
   ]
  },
  {
   "cell_type": "code",
   "execution_count": 6,
   "metadata": {},
   "outputs": [
    {
     "name": "stdout",
     "output_type": "stream",
     "text": [
      "Requirement already satisfied: influxdb in c:\\programdata\\anaconda3\\lib\\site-packages (5.2.3)\n",
      "Requirement already satisfied: pytz in c:\\programdata\\anaconda3\\lib\\site-packages (from influxdb) (2019.3)\n",
      "Requirement already satisfied: python-dateutil>=2.6.0 in c:\\programdata\\anaconda3\\lib\\site-packages (from influxdb) (2.8.1)\n",
      "Requirement already satisfied: six>=1.10.0 in c:\\programdata\\anaconda3\\lib\\site-packages (from influxdb) (1.13.0)\n",
      "Requirement already satisfied: requests>=2.17.0 in c:\\programdata\\anaconda3\\lib\\site-packages (from influxdb) (2.22.0)\n",
      "Requirement already satisfied: urllib3!=1.25.0,!=1.25.1,<1.26,>=1.21.1 in c:\\programdata\\anaconda3\\lib\\site-packages (from requests>=2.17.0->influxdb) (1.24.2)\n",
      "Requirement already satisfied: certifi>=2017.4.17 in c:\\programdata\\anaconda3\\lib\\site-packages (from requests>=2.17.0->influxdb) (2019.9.11)\n",
      "Requirement already satisfied: idna<2.9,>=2.5 in c:\\programdata\\anaconda3\\lib\\site-packages (from requests>=2.17.0->influxdb) (2.8)\n",
      "Requirement already satisfied: chardet<3.1.0,>=3.0.2 in c:\\programdata\\anaconda3\\lib\\site-packages (from requests>=2.17.0->influxdb) (3.0.4)\n"
     ]
    }
   ],
   "source": [
    "# install the modules on the OS\n",
    "!pip install influxdb\n",
    "\n",
    "# import the modules\n",
    "import pandas as pd\n",
    "from influxdb import DataFrameClient\n",
    "import os"
   ]
  },
  {
   "cell_type": "markdown",
   "metadata": {},
   "source": [
    "Next we define the database connection information."
   ]
  },
  {
   "cell_type": "code",
   "execution_count": 8,
   "metadata": {
    "scrolled": true
   },
   "outputs": [
    {
     "name": "stdout",
     "output_type": "stream",
     "text": [
      "address_or_ip_of_your_rasperry_pi:8086\n"
     ]
    }
   ],
   "source": [
    "# define the database connection string\n",
    "DB_HOST = 'address_or_ip_of_your_rasperry_pi' \n",
    "DB_PORT = 8086\n",
    "DB_DBNAME = 'meteorology'\n",
    "stations = ['mythenquai', 'tiefenbrunnen']\n",
    "\n",
    "print(DB_HOST +\":\"+str(DB_PORT))"
   ]
  },
  {
   "cell_type": "markdown",
   "metadata": {},
   "source": [
    "### DataFrameClient\n",
    "\n",
    "InfluxDB provides a [DataFrameClient](https://influxdb-python.readthedocs.io/en/latest/examples.html#tutorials-pandas) that can query data and store the result in [Pandas Dataframe](https://pandas.pydata.org/pandas-docs/stable/reference/frame.html)."
   ]
  },
  {
   "cell_type": "code",
   "execution_count": 10,
   "metadata": {},
   "outputs": [
    {
     "data": {
      "text/plain": [
       "<influxdb._dataframe_client.DataFrameClient at 0x24885d09f60>"
      ]
     },
     "execution_count": 10,
     "metadata": {},
     "output_type": "execute_result"
    }
   ],
   "source": [
    "client = DataFrameClient(host=DB_HOST, port=DB_PORT, database=DB_DBNAME)\n",
    "\n",
    "def main(host='localhost', port=8086):\n",
    "    \"\"\"Instantiate the connection to the InfluxDB client.\"\"\"\n",
    "    user = 'root'\n",
    "    password = 'root'\n",
    "    dbname = 'demo'\n",
    "    protocol = 'line'\n",
    "\n",
    "    print(\"Create pandas DataFrame\")\n",
    "    df = pd.DataFrame(data=list(range(30)),\n",
    "                      index=pd.date_range(start='2014-11-16',\n",
    "                                          periods=30, freq='H'), columns=['0'])\n",
    "\n",
    "    print(\"Create database: \" + dbname)\n",
    "    client.create_database(dbname)\n",
    "\n",
    "    print(\"Write DataFrame\")\n",
    "    client.write_points(df, 'demo', protocol=protocol)\n",
    "\n",
    "    print(\"Write DataFrame with Tags\")\n",
    "    client.write_points(df, 'demo',\n",
    "                        {'k1': 'v1', 'k2': 'v2'}, protocol=protocol)\n",
    "\n",
    "    print(\"Read DataFrame\")\n",
    "    client.query(\"select * from demo\")\n",
    "\n",
    "    print(\"Delete database: \" + dbname)\n",
    "    client.drop_database(dbname)\n",
    "\n"
   ]
  },
  {
   "cell_type": "markdown",
   "metadata": {},
   "source": [
    "Let's query some data using [InfluxQL](https://docs.influxdata.com/influxdb/v1.7/query_language/data_exploration/) (InfluxDB's query language)."
   ]
  },
  {
   "cell_type": "code",
   "execution_count": 4,
   "metadata": {},
   "outputs": [],
   "source": [
    "# TODO"
   ]
  },
  {
   "cell_type": "markdown",
   "metadata": {},
   "source": [
    "Internally, InfluxDB stores time in [UTC](https://en.wikipedia.org/wiki/Coordinated_Universal_Time). Depending on the season (daylight saving time), our timezone (Zurich) has an offset of +02:00 or +01:00. Therefore, it is important to set this offset in the query. Otherwise, InfluxDB's query engine would have to make assumptions on which time zone it should use."
   ]
  },
  {
   "cell_type": "code",
   "execution_count": 5,
   "metadata": {},
   "outputs": [],
   "source": [
    "start_time = '2019-07-23T00:00:00+02:00'\n",
    "end_time = '2019-07-24T00:00:00+02:00'\n",
    "\n",
    "#TODO"
   ]
  },
  {
   "cell_type": "markdown",
   "metadata": {},
   "source": [
    "### InfluxDB REST API\n",
    "\n",
    "Alternatively, it is also possible to use InfluxDB's [Query REST API](https://docs.influxdata.com/influxdb/v1.7/tools/api/#query-http-endpoint) (quick intro on REST please see [here](https://www.restapitutorial.com/lessons/whatisrest.html) and [here](https://www.restapitutorial.com/lessons/httpmethods.html)). This can be helpful for programming languages for which InfluxDB does not provide a client (e.g. [R](https://community.influxdata.com/t/how-should-i-read-influxdb-from-r/860/2))"
   ]
  },
  {
   "cell_type": "markdown",
   "metadata": {},
   "source": [
    "Import the necessary python modules (we assume that the necessary OS dependencies are already installed)"
   ]
  },
  {
   "cell_type": "code",
   "execution_count": 6,
   "metadata": {},
   "outputs": [
    {
     "name": "stdout",
     "output_type": "stream",
     "text": [
      "Requirement already satisfied: jsonpath-ng in /opt/conda/lib/python3.7/site-packages (1.4.3)\n",
      "Requirement already satisfied: decorator in /opt/conda/lib/python3.7/site-packages (from jsonpath-ng) (4.4.0)\n",
      "Requirement already satisfied: six in /opt/conda/lib/python3.7/site-packages (from jsonpath-ng) (1.12.0)\n",
      "Requirement already satisfied: ply in /opt/conda/lib/python3.7/site-packages (from jsonpath-ng) (3.11)\n",
      "http://86.119.36.94:8086/query?db=meteorology\n"
     ]
    }
   ],
   "source": [
    "# install the modules on the OS\n",
    "!pip install jsonpath-ng\n",
    "\n",
    "# import the modules\n",
    "import requests\n",
    "import json\n",
    "from jsonpath_ng import jsonpath, parse\n",
    "\n",
    "# setup the base url\n",
    "base_url = \"http://{}:{}/query?db={}\".format(DB_HOST, DB_PORT, DB_DBNAME)\n",
    "print(base_url)"
   ]
  },
  {
   "cell_type": "code",
   "execution_count": null,
   "metadata": {},
   "outputs": [],
   "source": []
  }
 ],
 "metadata": {
  "kernelspec": {
   "display_name": "Python 3",
   "language": "python",
   "name": "python3"
  },
  "language_info": {
   "codemirror_mode": {
    "name": "ipython",
    "version": 3
   },
   "file_extension": ".py",
   "mimetype": "text/x-python",
   "name": "python",
   "nbconvert_exporter": "python",
   "pygments_lexer": "ipython3",
   "version": "3.7.3"
  }
 },
 "nbformat": 4,
 "nbformat_minor": 2
}
