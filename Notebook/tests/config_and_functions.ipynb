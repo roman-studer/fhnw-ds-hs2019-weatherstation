{
 "cells": [
  {
   "cell_type": "code",
   "execution_count": 1,
   "metadata": {},
   "outputs": [],
   "source": [
    "# import the modules\n",
    "import pandas as pd\n",
    "import datetime as dt\n",
    "import numpy as np\n",
    "import os\n",
    "import math\n",
    "import influxdb\n",
    "import scipy.stats as st\n",
    "import plotly.graph_objects as go"
   ]
  },
  {
   "cell_type": "code",
   "execution_count": 2,
   "metadata": {},
   "outputs": [],
   "source": [
    "# define the database connection string\n",
    "DB_HOST = 'localhost' \n",
    "DB_PORT = 8086\n",
    "DB_NAME = 'meteorology'\n",
    "DB_USER = 'root'\n",
    "DB_PASSWORD = 'root'\n",
    "\n",
    "client = influxdb.DataFrameClient(DB_HOST, DB_PORT, DB_USER, DB_PASSWORD, DB_NAME)\n",
    "station_name = \"mythenquai\""
   ]
  },
  {
   "cell_type": "code",
   "execution_count": 3,
   "metadata": {},
   "outputs": [],
   "source": [
    "def get_data_in_current_time_period(data, days_back, days_forward):\n",
    "    \n",
    "    last_entry = data.iloc[-1:]\n",
    "    month_back = int((last_entry.index[0] + dt.timedelta(days=-days_back)).strftime('%-m'))\n",
    "    month_forward = int((last_entry.index[0] + dt.timedelta(days=days_forward)).strftime('%-m'))\n",
    "    day_back = int((last_entry.index[0] + dt.timedelta(days=-days_back)).strftime('%-d'))\n",
    "    day_forward = int((last_entry.index[0] + dt.timedelta(days=days_forward)).strftime('%-d'))\n",
    "    #print('month_back: {}'.format(month_back))\n",
    "    #print('day_back: {}'.format(day_back))\n",
    "    #print('month_forward: {}'.format(month_forward))\n",
    "    #print('day_forward: {}'.format(day_forward))\n",
    "\n",
    "    df_filtered = data[\n",
    "        ((data.index.month >= month_back) & (data.index.day >= day_back)\n",
    "        |\n",
    "        (data.index.month <= month_forward) & (data.index.day <= day_forward))\n",
    "    ]\n",
    "    \n",
    "    #print(df_filtered)\n",
    "\n",
    "    return df_filtered\n",
    "\n",
    "\n",
    "def remove_outliers(df_in, col_name):\n",
    "    \n",
    "    q1 = df_in[col_name].quantile(0.25)\n",
    "    q3 = df_in[col_name].quantile(0.75)\n",
    "    iqr = q3 - q1 # Interquartile range\n",
    "    fence_low  = q1 - 1.5 * iqr\n",
    "    fence_high = q3 + 1.5 * iqr\n",
    "    df_out = df_in.loc[(df_in[col_name] > fence_low) & (df_in[col_name] < fence_high)]\n",
    "    \n",
    "    return df_out\n",
    "\n",
    "\n",
    "def round_up(n, decimals=0):\n",
    "    multiplier = 10 ** decimals\n",
    "    return math.ceil(n * multiplier) / multiplier\n",
    "\n",
    "\n",
    "def round_down(n, decimals=0):\n",
    "    multiplier = 10 ** decimals\n",
    "    return math.floor(n * multiplier) / multiplier"
   ]
  }
 ],
 "metadata": {
  "kernelspec": {
   "display_name": "Python 3",
   "language": "python",
   "name": "python3"
  },
  "language_info": {
   "codemirror_mode": {
    "name": "ipython",
    "version": 3
   },
   "file_extension": ".py",
   "mimetype": "text/x-python",
   "name": "python",
   "nbconvert_exporter": "python",
   "pygments_lexer": "ipython3",
   "version": "3.7.3"
  }
 },
 "nbformat": 4,
 "nbformat_minor": 2
}
