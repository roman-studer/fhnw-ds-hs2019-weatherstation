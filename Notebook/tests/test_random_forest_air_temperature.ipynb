{
 "cells": [
  {
   "cell_type": "markdown",
   "metadata": {},
   "source": [
    "# Target: Predict Max Temperature of next Day"
   ]
  },
  {
   "cell_type": "code",
   "execution_count": 1,
   "metadata": {},
   "outputs": [],
   "source": [
    "# Pandas is used for data manipulation\n",
    "import pandas as pd\n",
    "import datetime as datetime\n",
    "import numpy as np\n",
    "# Using Skicit-learn to split data into training and testing sets\n",
    "from sklearn.model_selection import train_test_split\n",
    "# Import the model we are using\n",
    "from sklearn.ensemble import RandomForestRegressor\n",
    "import matplotlib.pyplot as plt"
   ]
  },
  {
   "cell_type": "code",
   "execution_count": 4,
   "metadata": {},
   "outputs": [
    {
     "data": {
      "text/html": [
       "<div>\n",
       "<style scoped>\n",
       "    .dataframe tbody tr th:only-of-type {\n",
       "        vertical-align: middle;\n",
       "    }\n",
       "\n",
       "    .dataframe tbody tr th {\n",
       "        vertical-align: top;\n",
       "    }\n",
       "\n",
       "    .dataframe thead th {\n",
       "        text-align: right;\n",
       "    }\n",
       "</style>\n",
       "<table border=\"1\" class=\"dataframe\">\n",
       "  <thead>\n",
       "    <tr style=\"text-align: right;\">\n",
       "      <th></th>\n",
       "      <th>timestamp_cet</th>\n",
       "      <th>air_temperature</th>\n",
       "      <th>barometric_pressure_qfe</th>\n",
       "      <th>dew_point</th>\n",
       "      <th>global_radiation</th>\n",
       "      <th>humidity</th>\n",
       "      <th>precipitation</th>\n",
       "      <th>water_temperature</th>\n",
       "      <th>wind_direction</th>\n",
       "      <th>wind_force_avg_10min</th>\n",
       "      <th>wind_gust_max_10min</th>\n",
       "      <th>wind_speed_avg_10min</th>\n",
       "      <th>windchill</th>\n",
       "    </tr>\n",
       "  </thead>\n",
       "  <tbody>\n",
       "    <tr>\n",
       "      <th>0</th>\n",
       "      <td>2019-01-07 23:10:00+00:00</td>\n",
       "      <td>3.0</td>\n",
       "      <td>981.0</td>\n",
       "      <td>0.1</td>\n",
       "      <td>0.0</td>\n",
       "      <td>81.0</td>\n",
       "      <td>0.0</td>\n",
       "      <td>6.2</td>\n",
       "      <td>273.0</td>\n",
       "      <td>2.0</td>\n",
       "      <td>5.3</td>\n",
       "      <td>2.6</td>\n",
       "      <td>0.0</td>\n",
       "    </tr>\n",
       "    <tr>\n",
       "      <th>1</th>\n",
       "      <td>2019-01-07 23:20:00+00:00</td>\n",
       "      <td>2.9</td>\n",
       "      <td>980.9</td>\n",
       "      <td>0.0</td>\n",
       "      <td>0.0</td>\n",
       "      <td>81.0</td>\n",
       "      <td>0.0</td>\n",
       "      <td>6.2</td>\n",
       "      <td>273.0</td>\n",
       "      <td>2.0</td>\n",
       "      <td>4.5</td>\n",
       "      <td>2.2</td>\n",
       "      <td>0.9</td>\n",
       "    </tr>\n",
       "    <tr>\n",
       "      <th>2</th>\n",
       "      <td>2019-01-07 23:30:00+00:00</td>\n",
       "      <td>2.8</td>\n",
       "      <td>980.7</td>\n",
       "      <td>0.1</td>\n",
       "      <td>0.0</td>\n",
       "      <td>82.0</td>\n",
       "      <td>0.0</td>\n",
       "      <td>6.2</td>\n",
       "      <td>307.0</td>\n",
       "      <td>2.0</td>\n",
       "      <td>6.8</td>\n",
       "      <td>3.1</td>\n",
       "      <td>-0.2</td>\n",
       "    </tr>\n",
       "    <tr>\n",
       "      <th>3</th>\n",
       "      <td>2019-01-07 23:40:00+00:00</td>\n",
       "      <td>2.8</td>\n",
       "      <td>980.4</td>\n",
       "      <td>0.2</td>\n",
       "      <td>0.0</td>\n",
       "      <td>83.0</td>\n",
       "      <td>0.0</td>\n",
       "      <td>6.2</td>\n",
       "      <td>290.0</td>\n",
       "      <td>2.0</td>\n",
       "      <td>3.3</td>\n",
       "      <td>1.9</td>\n",
       "      <td>1.2</td>\n",
       "    </tr>\n",
       "    <tr>\n",
       "      <th>4</th>\n",
       "      <td>2019-01-07 23:50:00+00:00</td>\n",
       "      <td>2.8</td>\n",
       "      <td>980.3</td>\n",
       "      <td>0.3</td>\n",
       "      <td>0.0</td>\n",
       "      <td>83.0</td>\n",
       "      <td>0.0</td>\n",
       "      <td>6.2</td>\n",
       "      <td>287.0</td>\n",
       "      <td>1.0</td>\n",
       "      <td>3.4</td>\n",
       "      <td>1.5</td>\n",
       "      <td>1.8</td>\n",
       "    </tr>\n",
       "  </tbody>\n",
       "</table>\n",
       "</div>"
      ],
      "text/plain": [
       "              timestamp_cet  air_temperature  barometric_pressure_qfe  \\\n",
       "0 2019-01-07 23:10:00+00:00              3.0                    981.0   \n",
       "1 2019-01-07 23:20:00+00:00              2.9                    980.9   \n",
       "2 2019-01-07 23:30:00+00:00              2.8                    980.7   \n",
       "3 2019-01-07 23:40:00+00:00              2.8                    980.4   \n",
       "4 2019-01-07 23:50:00+00:00              2.8                    980.3   \n",
       "\n",
       "   dew_point  global_radiation  humidity  precipitation  water_temperature  \\\n",
       "0        0.1               0.0      81.0            0.0                6.2   \n",
       "1        0.0               0.0      81.0            0.0                6.2   \n",
       "2        0.1               0.0      82.0            0.0                6.2   \n",
       "3        0.2               0.0      83.0            0.0                6.2   \n",
       "4        0.3               0.0      83.0            0.0                6.2   \n",
       "\n",
       "   wind_direction  wind_force_avg_10min  wind_gust_max_10min  \\\n",
       "0           273.0                   2.0                  5.3   \n",
       "1           273.0                   2.0                  4.5   \n",
       "2           307.0                   2.0                  6.8   \n",
       "3           290.0                   2.0                  3.3   \n",
       "4           287.0                   1.0                  3.4   \n",
       "\n",
       "   wind_speed_avg_10min  windchill  \n",
       "0                   2.6        0.0  \n",
       "1                   2.2        0.9  \n",
       "2                   3.1       -0.2  \n",
       "3                   1.9        1.2  \n",
       "4                   1.5        1.8  "
      ]
     },
     "execution_count": 4,
     "metadata": {},
     "output_type": "execute_result"
    }
   ],
   "source": [
    "# Read in data and display first 5 rows\n",
    "features = pd.read_csv('../../wetterstation/data/messwerte_mythenquai_2019.csv')\n",
    "features.timestamp_cet = pd.to_datetime(features.timestamp_cet, infer_datetime_format=True)\n",
    "features.head(5)"
   ]
  },
  {
   "cell_type": "code",
   "execution_count": 5,
   "metadata": {},
   "outputs": [
    {
     "name": "stdout",
     "output_type": "stream",
     "text": [
      "<class 'pandas.core.frame.DataFrame'>\n",
      "RangeIndex: 44707 entries, 0 to 44706\n",
      "Data columns (total 13 columns):\n",
      "timestamp_cet              44707 non-null datetime64[ns, UTC]\n",
      "air_temperature            44707 non-null float64\n",
      "barometric_pressure_qfe    44707 non-null float64\n",
      "dew_point                  44707 non-null float64\n",
      "global_radiation           44707 non-null float64\n",
      "humidity                   44707 non-null float64\n",
      "precipitation              44707 non-null float64\n",
      "water_temperature          44707 non-null float64\n",
      "wind_direction             44707 non-null float64\n",
      "wind_force_avg_10min       44707 non-null float64\n",
      "wind_gust_max_10min        44707 non-null float64\n",
      "wind_speed_avg_10min       44707 non-null float64\n",
      "windchill                  44707 non-null float64\n",
      "dtypes: datetime64[ns, UTC](1), float64(12)\n",
      "memory usage: 4.4 MB\n"
     ]
    }
   ],
   "source": [
    "features.info()"
   ]
  },
  {
   "cell_type": "code",
   "execution_count": 6,
   "metadata": {},
   "outputs": [],
   "source": [
    "features_actual = features.groupby(by=features['timestamp_cet'].dt.date).max()\n",
    "features_average = features.groupby(by=features['timestamp_cet'].dt.date).mean()"
   ]
  },
  {
   "cell_type": "code",
   "execution_count": 7,
   "metadata": {},
   "outputs": [],
   "source": [
    "features_average['actual'] = features_actual['air_temperature']"
   ]
  },
  {
   "cell_type": "code",
   "execution_count": 8,
   "metadata": {},
   "outputs": [],
   "source": [
    "features = features_average"
   ]
  },
  {
   "cell_type": "code",
   "execution_count": 9,
   "metadata": {},
   "outputs": [
    {
     "name": "stdout",
     "output_type": "stream",
     "text": [
      "The shape of our features is: (312, 13)\n"
     ]
    }
   ],
   "source": [
    "print('The shape of our features is:', features.shape)"
   ]
  },
  {
   "cell_type": "code",
   "execution_count": 10,
   "metadata": {},
   "outputs": [
    {
     "data": {
      "text/html": [
       "<div>\n",
       "<style scoped>\n",
       "    .dataframe tbody tr th:only-of-type {\n",
       "        vertical-align: middle;\n",
       "    }\n",
       "\n",
       "    .dataframe tbody tr th {\n",
       "        vertical-align: top;\n",
       "    }\n",
       "\n",
       "    .dataframe thead th {\n",
       "        text-align: right;\n",
       "    }\n",
       "</style>\n",
       "<table border=\"1\" class=\"dataframe\">\n",
       "  <thead>\n",
       "    <tr style=\"text-align: right;\">\n",
       "      <th></th>\n",
       "      <th>air_temperature</th>\n",
       "      <th>barometric_pressure_qfe</th>\n",
       "      <th>dew_point</th>\n",
       "      <th>global_radiation</th>\n",
       "      <th>humidity</th>\n",
       "      <th>precipitation</th>\n",
       "      <th>water_temperature</th>\n",
       "      <th>wind_direction</th>\n",
       "      <th>wind_force_avg_10min</th>\n",
       "      <th>wind_gust_max_10min</th>\n",
       "      <th>wind_speed_avg_10min</th>\n",
       "      <th>windchill</th>\n",
       "      <th>actual</th>\n",
       "    </tr>\n",
       "  </thead>\n",
       "  <tbody>\n",
       "    <tr>\n",
       "      <th>count</th>\n",
       "      <td>312.000000</td>\n",
       "      <td>312.000000</td>\n",
       "      <td>312.000000</td>\n",
       "      <td>312.000000</td>\n",
       "      <td>312.000000</td>\n",
       "      <td>312.000000</td>\n",
       "      <td>312.000000</td>\n",
       "      <td>312.000000</td>\n",
       "      <td>312.000000</td>\n",
       "      <td>312.000000</td>\n",
       "      <td>312.000000</td>\n",
       "      <td>312.000000</td>\n",
       "      <td>312.000000</td>\n",
       "    </tr>\n",
       "    <tr>\n",
       "      <th>mean</th>\n",
       "      <td>12.938776</td>\n",
       "      <td>816.483541</td>\n",
       "      <td>6.319553</td>\n",
       "      <td>128.279022</td>\n",
       "      <td>62.202635</td>\n",
       "      <td>21.511409</td>\n",
       "      <td>13.780309</td>\n",
       "      <td>296.449538</td>\n",
       "      <td>1.438941</td>\n",
       "      <td>5.375159</td>\n",
       "      <td>28.741081</td>\n",
       "      <td>21.100038</td>\n",
       "      <td>17.793590</td>\n",
       "    </tr>\n",
       "    <tr>\n",
       "      <th>std</th>\n",
       "      <td>7.235012</td>\n",
       "      <td>345.895131</td>\n",
       "      <td>5.893309</td>\n",
       "      <td>104.407656</td>\n",
       "      <td>28.516257</td>\n",
       "      <td>54.911271</td>\n",
       "      <td>6.661448</td>\n",
       "      <td>298.031301</td>\n",
       "      <td>0.815886</td>\n",
       "      <td>3.985609</td>\n",
       "      <td>66.385060</td>\n",
       "      <td>24.875628</td>\n",
       "      <td>8.499595</td>\n",
       "    </tr>\n",
       "    <tr>\n",
       "      <th>min</th>\n",
       "      <td>-1.438889</td>\n",
       "      <td>18.430556</td>\n",
       "      <td>-6.461111</td>\n",
       "      <td>0.000000</td>\n",
       "      <td>0.000000</td>\n",
       "      <td>0.000000</td>\n",
       "      <td>4.600694</td>\n",
       "      <td>0.000000</td>\n",
       "      <td>0.000000</td>\n",
       "      <td>0.000000</td>\n",
       "      <td>0.000000</td>\n",
       "      <td>-2.964583</td>\n",
       "      <td>-0.200000</td>\n",
       "    </tr>\n",
       "    <tr>\n",
       "      <th>25%</th>\n",
       "      <td>7.292708</td>\n",
       "      <td>958.023958</td>\n",
       "      <td>1.843403</td>\n",
       "      <td>37.024306</td>\n",
       "      <td>58.593750</td>\n",
       "      <td>0.000000</td>\n",
       "      <td>6.547222</td>\n",
       "      <td>148.942708</td>\n",
       "      <td>1.151042</td>\n",
       "      <td>2.812686</td>\n",
       "      <td>1.609028</td>\n",
       "      <td>4.889757</td>\n",
       "      <td>11.300000</td>\n",
       "    </tr>\n",
       "    <tr>\n",
       "      <th>50%</th>\n",
       "      <td>13.029514</td>\n",
       "      <td>967.259785</td>\n",
       "      <td>5.125000</td>\n",
       "      <td>106.392361</td>\n",
       "      <td>71.531250</td>\n",
       "      <td>0.000000</td>\n",
       "      <td>13.785069</td>\n",
       "      <td>184.121528</td>\n",
       "      <td>1.579861</td>\n",
       "      <td>3.927411</td>\n",
       "      <td>2.195833</td>\n",
       "      <td>12.236806</td>\n",
       "      <td>17.800000</td>\n",
       "    </tr>\n",
       "    <tr>\n",
       "      <th>75%</th>\n",
       "      <td>18.491146</td>\n",
       "      <td>971.309444</td>\n",
       "      <td>11.091667</td>\n",
       "      <td>209.862847</td>\n",
       "      <td>81.110915</td>\n",
       "      <td>0.013889</td>\n",
       "      <td>18.967882</td>\n",
       "      <td>226.347222</td>\n",
       "      <td>1.953125</td>\n",
       "      <td>6.668403</td>\n",
       "      <td>3.189583</td>\n",
       "      <td>22.082465</td>\n",
       "      <td>23.950000</td>\n",
       "    </tr>\n",
       "    <tr>\n",
       "      <th>max</th>\n",
       "      <td>28.496528</td>\n",
       "      <td>986.964583</td>\n",
       "      <td>20.468056</td>\n",
       "      <td>341.826389</td>\n",
       "      <td>96.576389</td>\n",
       "      <td>286.027778</td>\n",
       "      <td>26.888194</td>\n",
       "      <td>982.645139</td>\n",
       "      <td>3.131944</td>\n",
       "      <td>17.612500</td>\n",
       "      <td>290.166667</td>\n",
       "      <td>93.916667</td>\n",
       "      <td>37.400000</td>\n",
       "    </tr>\n",
       "  </tbody>\n",
       "</table>\n",
       "</div>"
      ],
      "text/plain": [
       "       air_temperature  barometric_pressure_qfe   dew_point  global_radiation  \\\n",
       "count       312.000000               312.000000  312.000000        312.000000   \n",
       "mean         12.938776               816.483541    6.319553        128.279022   \n",
       "std           7.235012               345.895131    5.893309        104.407656   \n",
       "min          -1.438889                18.430556   -6.461111          0.000000   \n",
       "25%           7.292708               958.023958    1.843403         37.024306   \n",
       "50%          13.029514               967.259785    5.125000        106.392361   \n",
       "75%          18.491146               971.309444   11.091667        209.862847   \n",
       "max          28.496528               986.964583   20.468056        341.826389   \n",
       "\n",
       "         humidity  precipitation  water_temperature  wind_direction  \\\n",
       "count  312.000000     312.000000         312.000000      312.000000   \n",
       "mean    62.202635      21.511409          13.780309      296.449538   \n",
       "std     28.516257      54.911271           6.661448      298.031301   \n",
       "min      0.000000       0.000000           4.600694        0.000000   \n",
       "25%     58.593750       0.000000           6.547222      148.942708   \n",
       "50%     71.531250       0.000000          13.785069      184.121528   \n",
       "75%     81.110915       0.013889          18.967882      226.347222   \n",
       "max     96.576389     286.027778          26.888194      982.645139   \n",
       "\n",
       "       wind_force_avg_10min  wind_gust_max_10min  wind_speed_avg_10min  \\\n",
       "count            312.000000           312.000000            312.000000   \n",
       "mean               1.438941             5.375159             28.741081   \n",
       "std                0.815886             3.985609             66.385060   \n",
       "min                0.000000             0.000000              0.000000   \n",
       "25%                1.151042             2.812686              1.609028   \n",
       "50%                1.579861             3.927411              2.195833   \n",
       "75%                1.953125             6.668403              3.189583   \n",
       "max                3.131944            17.612500            290.166667   \n",
       "\n",
       "        windchill      actual  \n",
       "count  312.000000  312.000000  \n",
       "mean    21.100038   17.793590  \n",
       "std     24.875628    8.499595  \n",
       "min     -2.964583   -0.200000  \n",
       "25%      4.889757   11.300000  \n",
       "50%     12.236806   17.800000  \n",
       "75%     22.082465   23.950000  \n",
       "max     93.916667   37.400000  "
      ]
     },
     "execution_count": 10,
     "metadata": {},
     "output_type": "execute_result"
    }
   ],
   "source": [
    "features.describe()"
   ]
  },
  {
   "cell_type": "code",
   "execution_count": 11,
   "metadata": {},
   "outputs": [],
   "source": [
    "plot = features.copy()\n",
    "# Labels are the values we want to predict\n",
    "labels = np.array(features['actual'])"
   ]
  },
  {
   "cell_type": "code",
   "execution_count": 12,
   "metadata": {},
   "outputs": [],
   "source": [
    "# Remove the labels from the features\n",
    "# axis 1 refers to the columns\n",
    "features= features.drop('actual', axis = 1)"
   ]
  },
  {
   "cell_type": "code",
   "execution_count": 13,
   "metadata": {},
   "outputs": [
    {
     "data": {
      "text/plain": [
       "['air_temperature',\n",
       " 'barometric_pressure_qfe',\n",
       " 'dew_point',\n",
       " 'global_radiation',\n",
       " 'humidity',\n",
       " 'precipitation',\n",
       " 'water_temperature',\n",
       " 'wind_direction',\n",
       " 'wind_force_avg_10min',\n",
       " 'wind_gust_max_10min',\n",
       " 'wind_speed_avg_10min',\n",
       " 'windchill']"
      ]
     },
     "execution_count": 13,
     "metadata": {},
     "output_type": "execute_result"
    }
   ],
   "source": [
    "# Saving feature names for later use\n",
    "feature_list = list(features.columns)\n",
    "feature_list"
   ]
  },
  {
   "cell_type": "code",
   "execution_count": 14,
   "metadata": {},
   "outputs": [
    {
     "data": {
      "text/plain": [
       "array([[ 2.86000000e+00,  9.80660000e+02,  1.40000000e-01, ...,\n",
       "         4.66000000e+00,  2.26000000e+00,  7.40000000e-01],\n",
       "       [ 3.08680556e+00,  9.73499306e+02,  1.21111111e+00, ...,\n",
       "         1.01201389e+01,  4.15416667e+00, -1.16250000e+00],\n",
       "       [ 1.67412587e+00,  9.67318182e+02, -2.68531469e-01, ...,\n",
       "         5.41678322e+00,  2.59090909e+00, -8.67132867e-01],\n",
       "       ...,\n",
       "       [ 6.29305556e+00,  9.59462500e+02,  1.58750000e+00, ...,\n",
       "         3.88263889e+00,  1.97430556e+00,  4.88194444e+00],\n",
       "       [ 4.68601399e+00,  9.57355245e+02,  6.05594406e-01, ...,\n",
       "         2.80699301e+00,  1.39300699e+00,  4.01188811e+00],\n",
       "       [ 3.14736842e+00,  9.54140000e+02,  4.61052632e-01, ...,\n",
       "         3.33789474e+00,  2.08210526e+00,  1.31684211e+00]])"
      ]
     },
     "execution_count": 14,
     "metadata": {},
     "output_type": "execute_result"
    }
   ],
   "source": [
    "# Convert to numpy array\n",
    "plot = features.copy()\n",
    "features = np.array(features)\n",
    "features"
   ]
  },
  {
   "cell_type": "code",
   "execution_count": 15,
   "metadata": {},
   "outputs": [],
   "source": [
    "# Split the data into training and testing sets\n",
    "train_features, test_features, train_labels, test_labels = train_test_split(features, labels, test_size = 0.25, random_state = 42)"
   ]
  },
  {
   "cell_type": "code",
   "execution_count": 16,
   "metadata": {},
   "outputs": [
    {
     "name": "stdout",
     "output_type": "stream",
     "text": [
      "Training Features Shape: (234, 12)\n",
      "Training Labels Shape: (234,)\n",
      "Testing Features Shape: (78, 12)\n",
      "Testing Labels Shape: (78,)\n"
     ]
    }
   ],
   "source": [
    "print('Training Features Shape:', train_features.shape)\n",
    "print('Training Labels Shape:', train_labels.shape)\n",
    "print('Testing Features Shape:', test_features.shape)\n",
    "print('Testing Labels Shape:', test_labels.shape)"
   ]
  },
  {
   "cell_type": "code",
   "execution_count": 17,
   "metadata": {},
   "outputs": [],
   "source": [
    "# The baseline predictions are the historical averages\n",
    "baseline_preds = test_features[:, feature_list.index('air_temperature')]"
   ]
  },
  {
   "cell_type": "code",
   "execution_count": 18,
   "metadata": {},
   "outputs": [
    {
     "name": "stdout",
     "output_type": "stream",
     "text": [
      "Average baseline error:  4.96\n"
     ]
    }
   ],
   "source": [
    "# Baseline errors, and display average baseline error\n",
    "baseline_errors = abs(baseline_preds - test_labels)\n",
    "print('Average baseline error: ', round(np.mean(baseline_errors), 2))"
   ]
  },
  {
   "cell_type": "code",
   "execution_count": 19,
   "metadata": {},
   "outputs": [],
   "source": [
    "# Instantiate model with 1000 decision trees\n",
    "rf = RandomForestRegressor(n_estimators = 1000, random_state = 42)"
   ]
  },
  {
   "cell_type": "code",
   "execution_count": 20,
   "metadata": {},
   "outputs": [],
   "source": [
    "# Train the model on training data\n",
    "rf.fit(train_features, train_labels);"
   ]
  },
  {
   "cell_type": "code",
   "execution_count": 21,
   "metadata": {},
   "outputs": [],
   "source": [
    "# Use the forest's predict method on the test data\n",
    "predictions = rf.predict(test_features)"
   ]
  },
  {
   "cell_type": "code",
   "execution_count": 22,
   "metadata": {},
   "outputs": [],
   "source": [
    "# Calculate the absolute errors\n",
    "errors = abs(predictions - test_labels)"
   ]
  },
  {
   "cell_type": "code",
   "execution_count": 23,
   "metadata": {},
   "outputs": [
    {
     "name": "stdout",
     "output_type": "stream",
     "text": [
      "Mean Absolute Error: 1.28 degrees.\n"
     ]
    }
   ],
   "source": [
    "# Print out the mean absolute error (mae)\n",
    "print('Mean Absolute Error:', round(np.mean(errors), 2), 'degrees.')"
   ]
  },
  {
   "cell_type": "code",
   "execution_count": 24,
   "metadata": {},
   "outputs": [
    {
     "name": "stdout",
     "output_type": "stream",
     "text": [
      "Accuracy: 114.57 %.\n"
     ]
    }
   ],
   "source": [
    "# Calculate mean absolute percentage error (MAPE)\n",
    "mape = 100 * (errors / test_labels)\n",
    "# Calculate and display accuracy\n",
    "accuracy = 100 - np.mean(mape)\n",
    "print('Accuracy:', round(accuracy, 2), '%.')"
   ]
  },
  {
   "cell_type": "code",
   "execution_count": 25,
   "metadata": {},
   "outputs": [
    {
     "name": "stdout",
     "output_type": "stream",
     "text": [
      "[14.3126]\n"
     ]
    }
   ],
   "source": [
    "print(predictions[-1:])"
   ]
  }
 ],
 "metadata": {
  "kernelspec": {
   "display_name": "Python 3",
   "language": "python",
   "name": "python3"
  },
  "language_info": {
   "codemirror_mode": {
    "name": "ipython",
    "version": 3
   },
   "file_extension": ".py",
   "mimetype": "text/x-python",
   "name": "python",
   "nbconvert_exporter": "python",
   "pygments_lexer": "ipython3",
   "version": "3.7.3"
  },
  "varInspector": {
   "cols": {
    "lenName": 16,
    "lenType": 16,
    "lenVar": 40
   },
   "kernels_config": {
    "python": {
     "delete_cmd_postfix": "",
     "delete_cmd_prefix": "del ",
     "library": "var_list.py",
     "varRefreshCmd": "print(var_dic_list())"
    },
    "r": {
     "delete_cmd_postfix": ") ",
     "delete_cmd_prefix": "rm(",
     "library": "var_list.r",
     "varRefreshCmd": "cat(var_dic_list()) "
    }
   },
   "oldHeight": 131.656666,
   "position": {
    "height": "152.99px",
    "left": "895px",
    "right": "20px",
    "top": "11px",
    "width": "566.323px"
   },
   "types_to_exclude": [
    "module",
    "function",
    "builtin_function_or_method",
    "instance",
    "_Feature"
   ],
   "varInspector_section_display": "block",
   "window_display": false
  }
 },
 "nbformat": 4,
 "nbformat_minor": 2
}
