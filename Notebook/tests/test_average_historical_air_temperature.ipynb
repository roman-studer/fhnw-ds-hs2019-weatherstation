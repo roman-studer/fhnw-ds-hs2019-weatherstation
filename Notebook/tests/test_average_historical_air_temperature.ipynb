{
 "cells": [
  {
   "cell_type": "markdown",
   "metadata": {},
   "source": [
    "# historic air_temperature implementation\n"
   ]
  },
  {
   "cell_type": "code",
   "execution_count": 21,
   "metadata": {},
   "outputs": [],
   "source": [
    "# install the modules on the OS\n",
    "#!pip install influxdb\n",
    "\n",
    "# import the modules\n",
    "import pandas as pd\n",
    "import datetime as dt\n",
    "#from influxdb import DataFrameClient\n",
    "import numpy as np\n",
    "import influxdb\n",
    "import os\n",
    "import math\n",
    "from decimal import *"
   ]
  },
  {
   "cell_type": "code",
   "execution_count": 22,
   "metadata": {
    "scrolled": true
   },
   "outputs": [],
   "source": [
    "# define the database connection string\n",
    "DB_HOST = 'localhost' \n",
    "DB_PORT = 8086\n",
    "DB_NAME = 'meteorology'\n",
    "DB_USER = 'root'\n",
    "DB_PASSWORD = 'root'\n",
    "#stations = ['mythenquai', 'tiefenbrunnen']"
   ]
  },
  {
   "cell_type": "code",
   "execution_count": 120,
   "metadata": {},
   "outputs": [
    {
     "name": "stdout",
     "output_type": "stream",
     "text": [
      "     level_0  level_1      mean\n",
      "0          1        1  2.853725\n",
      "1          1        2  2.028544\n",
      "2          1        3  1.980803\n",
      "3          1        4  2.337481\n",
      "4          1        5  2.496970\n",
      "5          1        6  2.246462\n",
      "6          1        7  2.805340\n",
      "7          1        8  3.255638\n",
      "351       12       17  2.699074\n",
      "352       12       18  2.347801\n",
      "353       12       19  2.697280\n",
      "354       12       20  2.643953\n",
      "355       12       21  4.138142\n",
      "356       12       22  4.954644\n",
      "357       12       23  5.466697\n",
      "358       12       24  4.566941\n",
      "359       12       25  4.542696\n",
      "360       12       26  2.796131\n",
      "361       12       27  2.584437\n",
      "362       12       28  1.500780\n",
      "363       12       29  1.405729\n",
      "364       12       30  3.126852\n",
      "365       12       31  3.166211\n"
     ]
    }
   ],
   "source": [
    "pd.set_option('display.max_rows', test.shape[0]+1)\n",
    "\n",
    "\n",
    "\n",
    "\n",
    "client = influxdb.DataFrameClient(DB_HOST, DB_PORT, DB_USER, DB_PASSWORD, DB_NAME)\n",
    "\n",
    "\n",
    "query = \"\"\"SELECT \n",
    "            mean(air_temperature)\n",
    "            FROM \"meteorology\".\"autogen\".\"mythenquai\"\n",
    "            WHERE time < now()\n",
    "            GROUP BY time(24h)\"\"\"\n",
    "\n",
    "df = pd.DataFrame(client.query(query)[\"mythenquai\"])\n",
    "gb = df.groupby([df.index.month, df.index.day]).mean().reset_index()\n",
    "\n",
    "\n",
    "#print(df)\n",
    "#gb = gb.apply(lambda g: g[gb.index > 350])\n",
    "#df = gb[(gb.index > 350) | gb(gb.index < 10)]\n",
    "df = gb.loc[(gb.index > 350) | (gb.index < 8)]\n",
    "\n",
    "\n",
    "print(df)"
   ]
  }
 ],
 "metadata": {
  "kernelspec": {
   "display_name": "Python 3",
   "language": "python",
   "name": "python3"
  },
  "language_info": {
   "codemirror_mode": {
    "name": "ipython",
    "version": 3
   },
   "file_extension": ".py",
   "mimetype": "text/x-python",
   "name": "python",
   "nbconvert_exporter": "python",
   "pygments_lexer": "ipython3",
   "version": "3.7.3"
  }
 },
 "nbformat": 4,
 "nbformat_minor": 2
}
